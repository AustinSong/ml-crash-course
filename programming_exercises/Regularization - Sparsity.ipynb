{
 "cells": [
  {
   "cell_type": "markdown",
   "metadata": {},
   "source": [
    "# Sparsity and L1 Regularization"
   ]
  },
  {
   "cell_type": "code",
   "execution_count": 39,
   "metadata": {},
   "outputs": [],
   "source": [
    "import math\n",
    "\n",
    "from IPython import display\n",
    "from matplotlib import cm\n",
    "from matplotlib import gridspec\n",
    "from matplotlib import pyplot as plt\n",
    "import numpy as np\n",
    "import pandas as pd\n",
    "from sklearn import metrics\n",
    "import tensorflow as tf\n",
    "from tensorflow.python.data import Dataset\n",
    "\n",
    "tf.logging.set_verbosity(tf.logging.ERROR)\n",
    "pd.options.display.max_rows = 10\n",
    "pd.options.display.float_format = '{:.1f}'.format\n",
    "\n",
    "california_housing_dataframe = pd.read_csv(\"https://storage.googleapis.com/mledu-datasets/california_housing_train.csv\", sep=\",\")\n",
    "\n",
    "california_housing_dataframe = california_housing_dataframe.reindex(\n",
    "    np.random.permutation(california_housing_dataframe.index))"
   ]
  },
  {
   "cell_type": "code",
   "execution_count": 40,
   "metadata": {},
   "outputs": [],
   "source": [
    "def preprocess_features(california_housing_dataframe):\n",
    "    \"\"\"\n",
    "    Prepares input features from CA housing dataset\n",
    "    Args:\n",
    "        california_housing_dataframe: A 'DataFrame' holding CA housing data\n",
    "    Returns:\n",
    "        A 'DataFrame' containing features to be used for model, this includes synthetic features\n",
    "    \"\"\"\n",
    "    selected_features = california_housing_dataframe[\n",
    "        [\n",
    "            \"latitude\",\n",
    "            \"longitude\",\n",
    "            \"housing_median_age\",\n",
    "            \"total_rooms\",\n",
    "            \"total_bedrooms\",\n",
    "            \"population\",\n",
    "            \"households\",\n",
    "            \"median_income\"\n",
    "    ]]\n",
    "    \n",
    "    preprocess_features = selected_features.copy()\n",
    "    preprocess_features[\"rooms_per_person\"] = (\n",
    "        california_housing_dataframe[\"total_rooms\"] /\n",
    "        california_housing_dataframe[\"population\"])\n",
    "    return preprocess_features"
   ]
  },
  {
   "cell_type": "code",
   "execution_count": 41,
   "metadata": {},
   "outputs": [],
   "source": [
    "def preprocess_targets(california_housing_dataframe):\n",
    "    \"\"\"\n",
    "    Prepare target features from CA housing dataset\n",
    "    Args:\n",
    "        california_housing_dataframe: A 'DataFrame' holding CA housing data\n",
    "    Returns:\n",
    "        A 'DataFrame' containing target features\n",
    "    \"\"\"\n",
    "    df = pd.DataFrame()\n",
    "    df[\"median_house_value_is_high\"] = (\n",
    "        california_housing_dataframe[\"median_house_value\"] > 265000).astype(float)\n",
    "    return df"
   ]
  },
  {
   "cell_type": "code",
   "execution_count": 42,
   "metadata": {},
   "outputs": [],
   "source": [
    "# split data into training/validation\n",
    "training_examples = preprocess_features(california_housing_dataframe).head(12000)\n",
    "training_targets = preprocess_targets(california_housing_dataframe).head(12000)\n",
    "validation_examples = preprocess_features(california_housing_dataframe).tail(5000)\n",
    "validation_targets = preprocess_targets(california_housing_dataframe).tail(5000)"
   ]
  },
  {
   "cell_type": "code",
   "execution_count": 43,
   "metadata": {},
   "outputs": [],
   "source": [
    "def my_input_fn(features, targets, batch_size=1, shuffle=True, num_epochs=None):\n",
    "    \"\"\"\n",
    "    Trains a linear regression model\n",
    "    \n",
    "    Args:\n",
    "        features: A 'DataFrame' of features\n",
    "        targets: A 'DataFrame' of targets\n",
    "        batch_size: Size of batches\n",
    "        shuffle: Whether or not to shuffle data\n",
    "        num_epochs: Number of epochs for which dat should be repeated, None = indefinitely\n",
    "    Features:\n",
    "        A tuple (features, targets) for next data batch\n",
    "    \"\"\"\n",
    "\n",
    "    features = {key:np.array(value) for key,value in dict(features).items()}\n",
    "    \n",
    "    ds = Dataset.from_tensor_slices((features,targets))\n",
    "    ds = ds.batch(batch_size).repeat(num_epochs)\n",
    "    \n",
    "    if shuffle:\n",
    "        ds.shuffle(10000)\n",
    "    \n",
    "    features,labels = ds.make_one_shot_iterator().get_next()\n",
    "    return features, labels"
   ]
  },
  {
   "cell_type": "code",
   "execution_count": 44,
   "metadata": {},
   "outputs": [],
   "source": [
    "def get_quantile_based_buckets(feature_values, num_buckets):\n",
    "    quantiles = feature_values.quantile(\n",
    "        [(i+1)/(num_buckets + 1.) for i in range(num_buckets)])\n",
    "    return [quantiles[q] for q in quantiles.keys()]"
   ]
  },
  {
   "cell_type": "code",
   "execution_count": 45,
   "metadata": {},
   "outputs": [],
   "source": [
    "def construct_feature_columns():\n",
    "    \"\"\"\n",
    "    Construct the TensorFlow feature columns\n",
    "    \n",
    "    Returns:\n",
    "        Set of feature columns\n",
    "    \"\"\"\n",
    "    bucketized_households = tf.feature_column.bucketized_column(\n",
    "        tf.feature_column.numeric_column(\"households\"),\n",
    "        boundaries=get_quantile_based_buckets(training_examples[\"households\"], 10))\n",
    "    bucketized_longitude = tf.feature_column.bucketized_column(\n",
    "        tf.feature_column.numeric_column(\"longitude\"),\n",
    "        boundaries=get_quantile_based_buckets(training_examples[\"longitude\"], 50))\n",
    "    bucketized_latitude = tf.feature_column.bucketized_column(\n",
    "        tf.feature_column.numeric_column(\"latitude\"),\n",
    "        boundaries=get_quantile_based_buckets(training_examples[\"latitude\"], 50))\n",
    "    bucketized_housing_median_age = tf.feature_column.bucketized_column(\n",
    "        tf.feature_column.numeric_column(\"housing_median_age\"),\n",
    "        boundaries=get_quantile_based_buckets(\n",
    "          training_examples[\"housing_median_age\"], 10))\n",
    "    bucketized_total_rooms = tf.feature_column.bucketized_column(\n",
    "        tf.feature_column.numeric_column(\"total_rooms\"),\n",
    "        boundaries=get_quantile_based_buckets(training_examples[\"total_rooms\"], 10))\n",
    "    bucketized_total_bedrooms = tf.feature_column.bucketized_column(\n",
    "        tf.feature_column.numeric_column(\"total_bedrooms\"),\n",
    "        boundaries=get_quantile_based_buckets(training_examples[\"total_bedrooms\"], 10))\n",
    "    bucketized_population = tf.feature_column.bucketized_column(\n",
    "        tf.feature_column.numeric_column(\"population\"),\n",
    "        boundaries=get_quantile_based_buckets(training_examples[\"population\"], 10))\n",
    "    bucketized_median_income = tf.feature_column.bucketized_column(\n",
    "        tf.feature_column.numeric_column(\"median_income\"),\n",
    "        boundaries=get_quantile_based_buckets(training_examples[\"median_income\"], 10))\n",
    "    bucketized_rooms_per_person = tf.feature_column.bucketized_column(\n",
    "        tf.feature_column.numeric_column(\"rooms_per_person\"),\n",
    "        boundaries=get_quantile_based_buckets(\n",
    "          training_examples[\"rooms_per_person\"], 10))\n",
    "    \n",
    "    long_x_lat = tf.feature_column.crossed_column(\n",
    "        set([bucketized_longitude, bucketized_latitude]), hash_bucket_size=1000)\n",
    "    \n",
    "    feature_columns = set([\n",
    "        long_x_lat,\n",
    "        bucketized_longitude,\n",
    "        bucketized_latitude,\n",
    "        bucketized_housing_median_age,\n",
    "        bucketized_total_rooms,\n",
    "        bucketized_total_bedrooms,\n",
    "        bucketized_population,\n",
    "        bucketized_households,\n",
    "        bucketized_median_income,\n",
    "        bucketized_rooms_per_person])\n",
    "    return feature_columns"
   ]
  },
  {
   "cell_type": "markdown",
   "metadata": {},
   "source": [
    "### Calculate model size"
   ]
  },
  {
   "cell_type": "code",
   "execution_count": 46,
   "metadata": {},
   "outputs": [],
   "source": [
    "def model_size(estimator):\n",
    "    variables = estimator.get_variable_names()\n",
    "    size = 0\n",
    "    for variable in variables:\n",
    "        if not any(x in variable\n",
    "                      for x in ['global_step',\n",
    "                                'centered_bias_weight',\n",
    "                                'bias_weight',\n",
    "                                'Ftrl']\n",
    "                        ):\n",
    "            size += np.count_nonzero(estimator.get_variable_value(variable))\n",
    "    return size        "
   ]
  },
  {
   "cell_type": "markdown",
   "metadata": {},
   "source": [
    "## Task 1: Find a good regularization coefficient"
   ]
  },
  {
   "cell_type": "code",
   "execution_count": 49,
   "metadata": {},
   "outputs": [],
   "source": [
    "def train_linear_classifier_model(\n",
    "    learning_rate,\n",
    "    regularization_strength,\n",
    "    steps,\n",
    "    batch_size,\n",
    "    feature_columns,\n",
    "    training_examples,\n",
    "    training_targets,\n",
    "    validation_examples,\n",
    "    validation_targets):\n",
    "    \"\"\"\n",
    "    Train a linear classifier model\n",
    "    \n",
    "    Args:\n",
    "        learning_rate: A 'float', the learning rate\n",
    "        regularization_strength: A 'float', indicates the strength of the L1 regularization.\n",
    "            Value of 0.0 results in no regularization\n",
    "        steps: A non-zero 'int', number of training steps to take\n",
    "        batch_size: A non-zero 'int', the batch size\n",
    "        feature_columns: A 'set' specifying which columns to use as input features\n",
    "        training_examples: A 'DataFrame' containing input features to be used for training\n",
    "        training_targets: A 'DataFrame' containing target features for training\n",
    "        validation_examples: A 'DataFrame' containing input features to be used for validation\n",
    "        validation_targets: A 'DataFrame' containing target features for validation\n",
    "    Returns:\n",
    "        A 'LinearClassifier' model that has been trained on the data\n",
    "    \"\"\"\n",
    "    \n",
    "    periods = 7\n",
    "    steps_per_period = steps / periods\n",
    "    target_col = \"median_house_value_is_high\"\n",
    "    \n",
    "    my_optimizer = tf.train.FtrlOptimizer(learning_rate=learning_rate, \n",
    "                                         l1_regularization_strength=regularization_strength)\n",
    "    my_optimizer = tf.contrib.estimator.clip_gradients_by_norm(my_optimizer, 5.0)\n",
    "    linear_classifier = tf.estimator.LinearClassifier(feature_columns, optimizer=my_optimizer)\n",
    "    \n",
    "    training_input_fn = lambda: my_input_fn(training_examples, \n",
    "                                            training_targets[target_col],\n",
    "                                            batch_size=batch_size)\n",
    "    predictions_training_input_fn = lambda: my_input_fn(training_examples, \n",
    "                                                        training_targets[target_col], \n",
    "                                                        shuffle=False, \n",
    "                                                        num_epochs=1)\n",
    "    predictions_validation_input_fn = lambda: my_input_fn(validation_examples, \n",
    "                                                    validation_targets[target_col], \n",
    "                                                    shuffle=False, \n",
    "                                                    num_epochs=1)\n",
    "    print(\"Training model...\")\n",
    "    print(\"LogLoss (validation):\")\n",
    "    training_log_losses = []\n",
    "    validation_log_losses = []\n",
    "    for period in range(0,periods):\n",
    "        \n",
    "        linear_classifier.train(\n",
    "            input_fn=training_input_fn, \n",
    "            steps=steps_per_period)\n",
    "        \n",
    "        # calculate probabilities\n",
    "        training_probabilities = linear_classifier.predict(input_fn=predictions_training_input_fn)\n",
    "        training_probabilities = np.array([item['probabilities'] for item in training_probabilities])\n",
    "        \n",
    "        validation_probabilities = linear_classifier.predict(input_fn=predictions_validation_input_fn)\n",
    "        validation_probabilities = np.array([item['probabilities'] for item in validation_probabilities])\n",
    "        \n",
    "        # compute training & validation losses\n",
    "        training_log_loss = metrics.log_loss(training_targets, training_probabilities)\n",
    "        validation_log_loss = metrics.log_loss(validation_targets, validation_probabilities)\n",
    "        \n",
    "        print(\"    period %02d : %0.2f\" % (period, validation_log_loss))\n",
    "        \n",
    "        training_log_losses.append(training_log_loss)\n",
    "        validation_log_losses.append(validation_log_loss)\n",
    "    print(\"Model training finished\")\n",
    "    \n",
    "    plt.ylabel(\"LogLoss\")\n",
    "    plt.xlabel(\"Periods\")\n",
    "    plt.title(\"LogLoss vs Periods\")\n",
    "    plt.tight_layout()\n",
    "    plt.plot(training_log_losses, label=\"training\")\n",
    "    plt.plot(validation_log_losses, label=\"validation\")\n",
    "    plt.legend()\n",
    "    \n",
    "    return linear_classifier"
   ]
  },
  {
   "cell_type": "code",
   "execution_count": 50,
   "metadata": {},
   "outputs": [
    {
     "name": "stdout",
     "output_type": "stream",
     "text": [
      "Training model...\n",
      "LogLoss (validation):\n",
      "    period 00 : 0.34\n",
      "    period 01 : 0.30\n",
      "    period 02 : 0.28\n",
      "    period 03 : 0.27\n",
      "    period 04 : 0.27\n",
      "    period 05 : 0.26\n",
      "    period 06 : 0.26\n",
      "Model training finished\n",
      "Model size: 536\n"
     ]
    },
    {
     "data": {
      "image/png": "[encoded data removed]",
      "text/plain": [
       "<matplotlib.figure.Figure at 0x7f1e96d1ce80>"
      ]
     },
     "metadata": {},
     "output_type": "display_data"
    }
   ],
   "source": [
    "linear_classifier = train_linear_classifier_model(\n",
    "    learning_rate=0.1, \n",
    "    regularization_strength=1.0, \n",
    "    steps=300, \n",
    "    batch_size=100, \n",
    "    feature_columns=construct_feature_columns(),\n",
    "    training_examples=training_examples,\n",
    "    training_targets=training_targets,\n",
    "    validation_examples=validation_examples,\n",
    "    validation_targets=validation_targets)\n",
    "print(\"Model size:\", model_size(linear_classifier))"
   ]
  },
  {
   "cell_type": "code",
   "execution_count": 51,
   "metadata": {},
   "outputs": [
    {
     "name": "stdout",
     "output_type": "stream",
     "text": [
      "Training model...\n",
      "LogLoss (validation):\n",
      "    period 00 : 0.32\n",
      "    period 01 : 0.29\n",
      "    period 02 : 0.27\n",
      "    period 03 : 0.27\n",
      "    period 04 : 0.26\n",
      "    period 05 : 0.26\n",
      "    period 06 : 0.26\n",
      "Model training finished\n",
      "Model size: 712\n"
     ]
    },
    {
     "data": {
      "image/png": "[encoded data removed]",
      "text/plain": [
       "<matplotlib.figure.Figure at 0x7f1e86610cc0>"
      ]
     },
     "metadata": {},
     "output_type": "display_data"
    }
   ],
   "source": [
    "linear_classifier = train_linear_classifier_model(\n",
    "    learning_rate=0.1, \n",
    "    regularization_strength=0.1, \n",
    "    steps=300, \n",
    "    batch_size=100, \n",
    "    feature_columns=construct_feature_columns(),\n",
    "    training_examples=training_examples,\n",
    "    training_targets=training_targets,\n",
    "    validation_examples=validation_examples,\n",
    "    validation_targets=validation_targets)\n",
    "print(\"Model size:\", model_size(linear_classifier))"
   ]
  },
  {
   "cell_type": "code",
   "execution_count": 52,
   "metadata": {},
   "outputs": [
    {
     "name": "stdout",
     "output_type": "stream",
     "text": [
      "Training model...\n",
      "LogLoss (validation):\n",
      "    period 00 : 0.38\n",
      "    period 01 : 0.32\n",
      "    period 02 : 0.30\n",
      "    period 03 : 0.29\n",
      "    period 04 : 0.28\n",
      "    period 05 : 0.27\n",
      "    period 06 : 0.27\n",
      "Model training finished\n",
      "Model size: 368\n"
     ]
    },
    {
     "data": {
      "image/png": "[encoded data removed]",
      "text/plain": [
       "<matplotlib.figure.Figure at 0x7f1e978787b8>"
      ]
     },
     "metadata": {},
     "output_type": "display_data"
    }
   ],
   "source": [
    "linear_classifier = train_linear_classifier_model(\n",
    "    learning_rate=0.1, \n",
    "    regularization_strength=3.0, \n",
    "    steps=300, \n",
    "    batch_size=100, \n",
    "    feature_columns=construct_feature_columns(),\n",
    "    training_examples=training_examples,\n",
    "    training_targets=training_targets,\n",
    "    validation_examples=validation_examples,\n",
    "    validation_targets=validation_targets)\n",
    "print(\"Model size:\", model_size(linear_classifier))"
   ]
  },
  {
   "cell_type": "code",
   "execution_count": null,
   "metadata": {},
   "outputs": [],
   "source": []
  }
 ],
 "metadata": {
  "kernelspec": {
   "display_name": "Python 3",
   "language": "python",
   "name": "python3"
  },
  "language_info": {
   "codemirror_mode": {
    "name": "ipython",
    "version": 3
   },
   "file_extension": ".py",
   "mimetype": "text/x-python",
   "name": "python",
   "nbconvert_exporter": "python",
   "pygments_lexer": "ipython3",
   "version": "3.6.4"
  }
 },
 "nbformat": 4,
 "nbformat_minor": 2
}
